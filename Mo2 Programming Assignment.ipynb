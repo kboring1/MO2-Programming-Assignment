{
 "cells": [
  {
   "cell_type": "code",
   "execution_count": 5,
   "id": "6b570cd6",
   "metadata": {},
   "outputs": [
    {
     "name": "stdout",
     "output_type": "stream",
     "text": [
      "Too low\n"
     ]
    }
   ],
   "source": [
    "secret = 4\n",
    "guess = 2\n",
    "\n",
    "if (guess < secret):\n",
    "    print(\"Too low\")\n",
    "elif (guess > secret):\n",
    "    print(\"Too High\")\n",
    "elif (guess == secret):\n",
    "    print(\"Just Right\")"
   ]
  },
  {
   "cell_type": "code",
   "execution_count": 10,
   "id": "1f9fdc09",
   "metadata": {},
   "outputs": [
    {
     "name": "stdout",
     "output_type": "stream",
     "text": [
      "Watermelon and pumpkins are NOT small\n",
      "Pea and Watermelons are green\n"
     ]
    }
   ],
   "source": [
    "small = False\n",
    "green = True\n",
    "\n",
    "if (small):\n",
    "    print(\"Cherry and peas are small\")\n",
    "else: print(\"Watermelon and pumpkins are NOT small\")\n",
    "    \n",
    "if(green):\n",
    "    print(\"Pea and Watermelons are green\")\n",
    "else: print(\"Cherry and pumpkins are NOT green\")"
   ]
  },
  {
   "cell_type": "code",
   "execution_count": null,
   "id": "7931e79e",
   "metadata": {},
   "outputs": [],
   "source": [
    "guess_me = 7\n",
    "number = 1\n",
    "while True:\n",
    "    if (number < guess_me):\n",
    "        print(\"Too low\")\n",
    "    elif(number == guess_me):\n",
    "        print(\"Found it\")\n",
    "    elif(number > guess_me):\n",
    "        print(\"oops\")\n",
    "    number +=1\n",
    "   \n",
    "        \n",
    "    "
   ]
  },
  {
   "cell_type": "code",
   "execution_count": null,
   "id": "cf4a18db",
   "metadata": {},
   "outputs": [],
   "source": [
    "guess_me = 5\n",
    "for number in range(10):\n",
    "    if (number < guess_me):\n",
    "        print(\"too low\")\n",
    "    elif (number == guess_me):\n",
    "        print(\"Found it!\")\n",
    "    elif(number > guess_me):\n",
    "        print(\"oops\")"
   ]
  },
  {
   "cell_type": "code",
   "execution_count": null,
   "id": "2b08097b",
   "metadata": {},
   "outputs": [],
   "source": []
  }
 ],
 "metadata": {
  "kernelspec": {
   "display_name": "Python 3 (ipykernel)",
   "language": "python",
   "name": "python3"
  },
  "language_info": {
   "codemirror_mode": {
    "name": "ipython",
    "version": 3
   },
   "file_extension": ".py",
   "mimetype": "text/x-python",
   "name": "python",
   "nbconvert_exporter": "python",
   "pygments_lexer": "ipython3",
   "version": "3.9.12"
  }
 },
 "nbformat": 4,
 "nbformat_minor": 5
}
